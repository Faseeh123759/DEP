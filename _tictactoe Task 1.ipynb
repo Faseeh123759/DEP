{
 "cells": [
  {
   "cell_type": "code",
   "execution_count": 1,
   "id": "1ffbb397-f05c-40d3-9dc5-26b644c92423",
   "metadata": {},
   "outputs": [],
   "source": [
    "def initialize_board():\n",
    "    return [[' ' for _ in range(3)] for _ in range(3)]\n",
    "\n",
    "def print_board(board):\n",
    "    for row in board:\n",
    "        print('|'.join(row))\n",
    "        print('-' * 5)"
   ]
  },
  {
   "cell_type": "code",
   "execution_count": 2,
   "id": "a8cc40fc-a8c5-4738-9c06-9810b40220b3",
   "metadata": {},
   "outputs": [],
   "source": [
    "def check_winner(board, player):\n",
    "    for row in board:\n",
    "        if all(cell == player for cell in row):\n",
    "            return True\n",
    "    for col in range(3):\n",
    "        if all(board[row][col] == player for row in range(3)):\n",
    "            return True\n",
    "    if (board[0][0] == player and board[1][1] == player and board[2][2] == player) or \\\n",
    "       (board[0][2] == player and board[1][1] == player and board[2][0] == player):\n",
    "        return True\n",
    "    return False"
   ]
  },
  {
   "cell_type": "code",
   "execution_count": 3,
   "id": "3d984bf7-3adf-4450-9397-843648349444",
   "metadata": {},
   "outputs": [],
   "source": [
    "def get_empty_cells(board):\n",
    "    empty_cells = []\n",
    "    for i in range(3):\n",
    "        for j in range(3):\n",
    "            if board[i][j] == ' ':\n",
    "                empty_cells.append((i, j))\n",
    "    return empty_cells"
   ]
  },
  {
   "cell_type": "code",
   "execution_count": 4,
   "id": "2f9958c3-b3d7-4586-b290-2a477a613a18",
   "metadata": {},
   "outputs": [],
   "source": [
    "def minimax(board, depth, is_maximizing):\n",
    "    scores = {'X': 1, 'O': -1, 'tie': 0}\n",
    "\n",
    "    winner = check_winner(board, 'X') or check_winner(board, 'O')\n",
    "    if winner:\n",
    "        return scores['X'] if winner == 'X' else scores['O']\n",
    "    if not get_empty_cells(board):\n",
    "        return scores['tie']\n",
    "\n",
    "    if is_maximizing:\n",
    "        best_score = -float('inf')\n",
    "        for i, j in get_empty_cells(board):\n",
    "            board[i][j] = 'X'\n",
    "            score = minimax(board, depth + 1, False)\n",
    "            board[i][j] = ' '\n",
    "            best_score = max(best_score, score)\n",
    "        return best_score\n",
    "    else:\n",
    "        best_score = float('inf')\n",
    "        for i, j in get_empty_cells(board):\n",
    "            board[i][j] = 'O'\n",
    "            score = minimax(board, depth + 1, True)\n",
    "            board[i][j] = ' '\n",
    "            best_score = min(best_score, score)\n",
    "        return best_score"
   ]
  },
  {
   "cell_type": "code",
   "execution_count": 5,
   "id": "789d1f38-79b6-4d2d-b03a-3cb7c0bc246a",
   "metadata": {},
   "outputs": [
    {
     "name": "stdout",
     "output_type": "stream",
     "text": [
      " | | \n",
      "-----\n",
      " | | \n",
      "-----\n",
      " | | \n",
      "-----\n"
     ]
    },
    {
     "name": "stdin",
     "output_type": "stream",
     "text": [
      "Enter your move (row, col):  0,0\n"
     ]
    },
    {
     "name": "stdout",
     "output_type": "stream",
     "text": [
      "O| | \n",
      "-----\n",
      " | | \n",
      "-----\n",
      " | | \n",
      "-----\n",
      "Computer's turn...\n",
      "O|X| \n",
      "-----\n",
      " | | \n",
      "-----\n",
      " | | \n",
      "-----\n"
     ]
    },
    {
     "name": "stdin",
     "output_type": "stream",
     "text": [
      "Enter your move (row, col):  0,2\n"
     ]
    },
    {
     "name": "stdout",
     "output_type": "stream",
     "text": [
      "O|X|O\n",
      "-----\n",
      " | | \n",
      "-----\n",
      " | | \n",
      "-----\n",
      "Computer's turn...\n",
      "O|X|O\n",
      "-----\n",
      "X| | \n",
      "-----\n",
      " | | \n",
      "-----\n"
     ]
    },
    {
     "name": "stdin",
     "output_type": "stream",
     "text": [
      "Enter your move (row, col):  1,2\n"
     ]
    },
    {
     "name": "stdout",
     "output_type": "stream",
     "text": [
      "O|X|O\n",
      "-----\n",
      "X| |O\n",
      "-----\n",
      " | | \n",
      "-----\n",
      "Computer's turn...\n",
      "O|X|O\n",
      "-----\n",
      "X| |O\n",
      "-----\n",
      " | |X\n",
      "-----\n"
     ]
    },
    {
     "name": "stdin",
     "output_type": "stream",
     "text": [
      "Enter your move (row, col):  1,1\n"
     ]
    },
    {
     "name": "stdout",
     "output_type": "stream",
     "text": [
      "O|X|O\n",
      "-----\n",
      "X|O|O\n",
      "-----\n",
      " | |X\n",
      "-----\n",
      "Computer's turn...\n",
      "O|X|O\n",
      "-----\n",
      "X|O|O\n",
      "-----\n",
      "X| |X\n",
      "-----\n"
     ]
    },
    {
     "name": "stdin",
     "output_type": "stream",
     "text": [
      "Enter your move (row, col):  2,1\n"
     ]
    },
    {
     "name": "stdout",
     "output_type": "stream",
     "text": [
      "O|X|O\n",
      "-----\n",
      "X|O|O\n",
      "-----\n",
      "X|O|X\n",
      "-----\n",
      "It's a tie!\n"
     ]
    }
   ],
   "source": [
    " def get_computer_move(board):\n",
    "    best_score = -float('inf')\n",
    "    best_move = None\n",
    "    for i, j in get_empty_cells(board):\n",
    "        board[i][j] = 'X'\n",
    "        score = minimax(board, 0, False)\n",
    "        board[i][j] = ' '\n",
    "        if score > best_score:\n",
    "            best_score = score \n",
    "            best_move = (i, j)\n",
    "    return best_move\n",
    "\n",
    "board = initialize_board()\n",
    "current_player = 'O'  \n",
    "while True:\n",
    "    print_board(board)\n",
    "    if current_player == 'O':\n",
    "        row, col = map(int, input(\"Enter your move (row, col): \").split(','))\n",
    "        if board[row][col] != ' ':\n",
    "            print(\"Invalid move. Try again.\")\n",
    "            continue\n",
    "        board[row][col] = 'O'\n",
    "    else:\n",
    "        print(\"Computer's turn...\")\n",
    "        row, col = get_computer_move(board)\n",
    "        board[row][col] = 'X'\n",
    "\n",
    "    winner = check_winner(board, current_player)\n",
    "    if winner:\n",
    "        print_board(board)\n",
    "        print(f\"{current_player} wins!\")\n",
    "        break\n",
    "    if not get_empty_cells(board):\n",
    "        print_board(board)\n",
    "        print(\"It's a tie!\")\n",
    "        break \n",
    "\n",
    "    current_player = 'X' if current_player == 'O' else 'O' "
   ]
  },
  {
   "cell_type": "code",
   "execution_count": null,
   "id": "1cecffea-a5e9-4c4f-85fc-b51fb0af47f1",
   "metadata": {},
   "outputs": [],
   "source": []
  }
 ],
 "metadata": {
  "kernelspec": {
   "display_name": "Python 3 (ipykernel)",
   "language": "python",
   "name": "python3"
  },
  "language_info": {
   "codemirror_mode": {
    "name": "ipython",
    "version": 3
   },
   "file_extension": ".py",
   "mimetype": "text/x-python",
   "name": "python",
   "nbconvert_exporter": "python",
   "pygments_lexer": "ipython3",
   "version": "3.12.4"
  }
 },
 "nbformat": 4,
 "nbformat_minor": 5
}
